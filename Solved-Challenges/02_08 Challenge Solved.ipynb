{
 "cells": [
  {
   "cell_type": "code",
   "execution_count": null,
   "id": "27900b66-b4c4-4f33-aadf-c6cd03e62916",
   "metadata": {},
   "outputs": [],
   "source": [
    "</> Code Challenge: Factorials"
   ]
  },
  {
   "cell_type": "code",
   "execution_count": 1,
   "id": "f2b7798c-1d83-47e6-9b90-b1f5c4ac989e",
   "metadata": {},
   "outputs": [],
   "source": [
    "def factorial(num):\n",
    "    # Your code goes here\n",
    "    pass"
   ]
  },
  {
   "cell_type": "code",
   "execution_count": 5,
   "id": "6617f97f-b644-4d05-8f76-64dcd32b1010",
   "metadata": {},
   "outputs": [
    {
     "name": "stdout",
     "output_type": "stream",
     "text": [
      "None\n",
      "None\n",
      "None\n"
     ]
    }
   ],
   "source": [
    "#Step 1 - print function test cases\n",
    "def factorial(num):\n",
    "    return None\n",
    "\n",
    "print(factorial(0))\n",
    "print(factorial(5))\n",
    "print(factorial('spam spam spam'))"
   ]
  },
  {
   "cell_type": "code",
   "execution_count": 12,
   "id": "0493e97c-190a-4b06-b917-a7220288f21c",
   "metadata": {},
   "outputs": [
    {
     "name": "stdout",
     "output_type": "stream",
     "text": [
      "Is int\n",
      "Is int\n",
      "Not int\n"
     ]
    }
   ],
   "source": [
    "#Step 2 - check number for being an integer\n",
    "def factorial(num):\n",
    "    if not isinstance(num, int) or num < 0:\n",
    "        return \"Not int\"\n",
    "        \n",
    "    else:\n",
    "        return \"Is int\"\n",
    "        \n",
    "print(factorial(0))\n",
    "print(factorial(5))\n",
    "print(factorial('spam spam spam'))"
   ]
  },
  {
   "cell_type": "code",
   "execution_count": 13,
   "id": "298ea029-2867-4198-8d91-fac7fae737c7",
   "metadata": {},
   "outputs": [
    {
     "name": "stdout",
     "output_type": "stream",
     "text": [
      "Is Int\n",
      "Is Int - do factorial calc\n",
      "Not Int\n"
     ]
    }
   ],
   "source": [
    "#Step 3 - add elif for simple cases\n",
    "def factorial(num):\n",
    "    if not isinstance(num, int) or num < 0:\n",
    "        return \"Not Int\"\n",
    "        \n",
    "    elif num == 0 or num ==1:\n",
    "        return \"Is Int\"\n",
    "        \n",
    "    else:\n",
    "        return \"Is Int - do factorial calc\"\n",
    "        \n",
    "print(factorial(0))\n",
    "print(factorial(5))\n",
    "print(factorial('spam spam spam'))"
   ]
  },
  {
   "cell_type": "code",
   "execution_count": 14,
   "id": "eb34c395-03cc-4c6c-b419-6d52454df2fc",
   "metadata": {},
   "outputs": [
    {
     "name": "stdout",
     "output_type": "stream",
     "text": [
      "1\n",
      "120\n",
      "None\n"
     ]
    }
   ],
   "source": [
    "#Step 3 - add return values & equation for a factorial\n",
    "def factorial(num):\n",
    "    if not isinstance(num, int) or num < 0:\n",
    "        return None\n",
    "        \n",
    "    elif num == 0 or num ==1:\n",
    "        return 1\n",
    "        \n",
    "    else:\n",
    "        return num * factorial(num - 1)\n",
    "        \n",
    "print(factorial(0))\n",
    "print(factorial(5))\n",
    "print(factorial('spam spam spam'))"
   ]
  }
 ],
 "metadata": {
  "kernelspec": {
   "display_name": "Python 3 (ipykernel)",
   "language": "python",
   "name": "python3"
  },
  "language_info": {
   "codemirror_mode": {
    "name": "ipython",
    "version": 3
   },
   "file_extension": ".py",
   "mimetype": "text/x-python",
   "name": "python",
   "nbconvert_exporter": "python",
   "pygments_lexer": "ipython3",
   "version": "3.12.5"
  }
 },
 "nbformat": 4,
 "nbformat_minor": 5
}
