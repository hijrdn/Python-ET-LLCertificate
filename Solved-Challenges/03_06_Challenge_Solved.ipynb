{
 "cells": [
  {
   "cell_type": "code",
   "execution_count": null,
   "id": "0693f2c2-54cf-4b8a-b480-9aa4847622e4",
   "metadata": {},
   "outputs": [],
   "source": [
    "</> Code Challenge: Hex to Dec"
   ]
  },
  {
   "cell_type": "code",
   "execution_count": null,
   "id": "536e914e-3c94-4678-8080-dd64804d65ff",
   "metadata": {},
   "outputs": [],
   "source": [
    "#Original Code Stub\n",
    "\n",
    "hexNumbers = {\n",
    "    '0': 0, '1': 1, '2': 2, '3': 3, '4': 4, '5': 5, '6': 6, '7': 7, '8': 8, '9': 9,\n",
    "    'A': 10, 'B': 11, 'C': 12, 'D': 13, 'E': 14, 'F': 15\n",
    "}\n",
    "\n",
    "# Converts a string hexadecimal number into an integer decimal\n",
    "# If hexNum is not a valid hexadecimal number, returns None\n",
    "def hexToDec(hexNum):\n",
    "    pass"
   ]
  },
  {
   "cell_type": "code",
   "execution_count": 2,
   "id": "38e48fed-bdda-428f-808d-e8c94cd6a5a9",
   "metadata": {},
   "outputs": [
    {
     "name": "stdout",
     "output_type": "stream",
     "text": [
      "1A\n",
      "FFF\n",
      "1234\n"
     ]
    }
   ],
   "source": [
    "#Add return function to code stub w/ test values\n",
    "\n",
    "hexNumbers = {\n",
    "    '0': 0, '1': 1, '2': 2, '3': 3, '4': 4, '5': 5, '6': 6, '7': 7, '8': 8, '9': 9,\n",
    "    'A': 10, 'B': 11, 'C': 12, 'D': 13, 'E': 14, 'F': 15\n",
    "}\n",
    "\n",
    "def hexToDec(hexNum):\n",
    "    return hexNum\n",
    "\n",
    "# Testing the function\n",
    "print(hexToDec('1A'))  \n",
    "print(hexToDec('FFF'))  \n",
    "print(hexToDec('1234'))"
   ]
  },
  {
   "cell_type": "code",
   "execution_count": 3,
   "id": "f60d62b3-7961-44b6-86a0-da958cb85371",
   "metadata": {},
   "outputs": [
    {
     "name": "stdout",
     "output_type": "stream",
     "text": [
      "1A\n",
      "FFF\n",
      "None\n"
     ]
    }
   ],
   "source": [
    "#Add logic for handling invalid hex over 3 values long\n",
    "\n",
    "hexNumbers = {\n",
    "    '0': 0, '1': 1, '2': 2, '3': 3, '4': 4, '5': 5, '6': 6, '7': 7, '8': 8, '9': 9,\n",
    "    'A': 10, 'B': 11, 'C': 12, 'D': 13, 'E': 14, 'F': 15\n",
    "}\n",
    "\n",
    "def hexToDec(hexNum):\n",
    "    if len(hexNum) > 3:\n",
    "        return None\n",
    "    \n",
    "    else:\n",
    "        return hexNum\n",
    "\n",
    "# Testing the function\n",
    "print(hexToDec('1A'))  \n",
    "print(hexToDec('FFF'))  \n",
    "print(hexToDec('1234'))"
   ]
  },
  {
   "cell_type": "code",
   "execution_count": 5,
   "id": "0c32edd9-6f08-4f4d-9e8d-cadad9a3a702",
   "metadata": {},
   "outputs": [
    {
     "name": "stdout",
     "output_type": "stream",
     "text": [
      "True\n",
      "True\n",
      "None\n"
     ]
    }
   ],
   "source": [
    "#Add For-Loop that checks char against library & returns values\n",
    "\n",
    "hexNumbers = {\n",
    "    '0': 0, '1': 1, '2': 2, '3': 3, '4': 4, '5': 5, '6': 6, '7': 7, '8': 8, '9': 9,\n",
    "    'A': 10, 'B': 11, 'C': 12, 'D': 13, 'E': 14, 'F': 15\n",
    "}\n",
    "\n",
    "def hexToDec(hexNum):\n",
    "    if len(hexNum) > 3:\n",
    "        return None\n",
    "    \n",
    "    for char in hexNum:\n",
    "        if char in hexNumbers:\n",
    "            return True\n",
    "        else:\n",
    "            return None\n",
    "    return hexNum\n",
    "\n",
    "# Testing the function\n",
    "print(hexToDec('1A'))  \n",
    "print(hexToDec('FFF'))  \n",
    "print(hexToDec('1234'))"
   ]
  },
  {
   "cell_type": "code",
   "execution_count": 7,
   "id": "2c076c74-d333-4a4f-baea-ab7e51a483dc",
   "metadata": {},
   "outputs": [
    {
     "name": "stdout",
     "output_type": "stream",
     "text": [
      "True\n",
      "True\n",
      "None\n"
     ]
    }
   ],
   "source": [
    "#Update For-Loop with variable assignments & result var\n",
    "\n",
    "hexNumbers = {\n",
    "    '0': 0, '1': 1, '2': 2, '3': 3, '4': 4, '5': 5, '6': 6, '7': 7, '8': 8, '9': 9,\n",
    "    'A': 10, 'B': 11, 'C': 12, 'D': 13, 'E': 14, 'F': 15\n",
    "}\n",
    "\n",
    "def hexToDec(hexNum):\n",
    "    if len(hexNum) > 3:\n",
    "        return None\n",
    "    hexNum = hexNum.upper()\n",
    "    decimal_value = 0\n",
    "    for char in hexNum:\n",
    "        if char in hexNumbers:\n",
    "            return True\n",
    "        else:\n",
    "            return None\n",
    "    return decimal_value\n",
    "\n",
    "# Testing the function\n",
    "print(hexToDec('1A'))  \n",
    "print(hexToDec('FFF'))  \n",
    "print(hexToDec('1234'))"
   ]
  },
  {
   "cell_type": "code",
   "execution_count": 10,
   "id": "51490f78-be25-49a9-8e39-8abdc4e8975c",
   "metadata": {},
   "outputs": [
    {
     "name": "stdout",
     "output_type": "stream",
     "text": [
      "11\n",
      "45\n",
      "None\n"
     ]
    }
   ],
   "source": [
    "#Check ForLoop math with addition hexdec values from library\n",
    "\n",
    "hexNumbers = {\n",
    "    '0': 0, '1': 1, '2': 2, '3': 3, '4': 4, '5': 5, '6': 6, '7': 7, '8': 8, '9': 9,\n",
    "    'A': 10, 'B': 11, 'C': 12, 'D': 13, 'E': 14, 'F': 15\n",
    "}\n",
    "\n",
    "def hexToDec(hexNum):\n",
    "    if len(hexNum) > 3:\n",
    "        return None\n",
    "    hexNum = hexNum.upper()\n",
    "    decimal_value = 0\n",
    "    for char in hexNum:\n",
    "        if char in hexNumbers:\n",
    "            decimal_value = decimal_value + hexNumbers[char]\n",
    "        else:\n",
    "            return None\n",
    "    return decimal_value\n",
    "\n",
    "# Testing the function\n",
    "print(hexToDec('1A'))  \n",
    "print(hexToDec('FFF'))  \n",
    "print(hexToDec('1234'))"
   ]
  },
  {
   "cell_type": "code",
   "execution_count": 11,
   "id": "680efa56-1c24-4e72-9182-646082cbfc75",
   "metadata": {},
   "outputs": [
    {
     "name": "stdout",
     "output_type": "stream",
     "text": [
      "26\n",
      "4095\n",
      "None\n"
     ]
    }
   ],
   "source": [
    "#Update For-Loop with the hexadecimal converter/formula\n",
    "\n",
    "hexNumbers = {\n",
    "    '0': 0, '1': 1, '2': 2, '3': 3, '4': 4, '5': 5, '6': 6, '7': 7, '8': 8, '9': 9,\n",
    "    'A': 10, 'B': 11, 'C': 12, 'D': 13, 'E': 14, 'F': 15\n",
    "}\n",
    "\n",
    "def hexToDec(hexNum):\n",
    "    if len(hexNum) > 3:\n",
    "        return None\n",
    "    hexNum = hexNum.upper()\n",
    "    decimal_value = 0\n",
    "    for char in hexNum:\n",
    "        if char in hexNumbers:\n",
    "            decimal_value = decimal_value * 16 + hexNumbers[char]\n",
    "        else:\n",
    "            return None\n",
    "    return decimal_value\n",
    "\n",
    "# Testing the function\n",
    "print(hexToDec('1A'))  \n",
    "print(hexToDec('FFF'))  \n",
    "print(hexToDec('1234'))"
   ]
  }
 ],
 "metadata": {
  "kernelspec": {
   "display_name": "Python 3 (ipykernel)",
   "language": "python",
   "name": "python3"
  },
  "language_info": {
   "codemirror_mode": {
    "name": "ipython",
    "version": 3
   },
   "file_extension": ".py",
   "mimetype": "text/x-python",
   "name": "python",
   "nbconvert_exporter": "python",
   "pygments_lexer": "ipython3",
   "version": "3.12.5"
  }
 },
 "nbformat": 4,
 "nbformat_minor": 5
}
